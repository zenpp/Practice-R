{
  "nbformat": 4,
  "nbformat_minor": 0,
  "metadata": {
    "kernelspec": {
      "name": "r",
      "display_name": "R",
      "language": "R"
    },
    "language_info": {
      "mimetype": "text/x-r-source",
      "name": "R",
      "pygments_lexer": "r",
      "version": "3.5.3",
      "file_extension": ".r",
      "codemirror_mode": "r"
    },
    "colab": {
      "name": "2) Data Operations.ipynb",
      "provenance": [],
      "include_colab_link": true
    }
  },
  "cells": [
    {
      "cell_type": "markdown",
      "metadata": {
        "id": "view-in-github",
        "colab_type": "text"
      },
      "source": [
        "<a href=\"https://colab.research.google.com/github/zenpp/Practice-R/blob/master/Introduction%20to%20R/Data_Operations.ipynb\" target=\"_parent\"><img src=\"https://colab.research.google.com/assets/colab-badge.svg\" alt=\"Open In Colab\"/></a>"
      ]
    },
    {
      "cell_type": "code",
      "metadata": {
        "trusted": true,
        "id": "bGgfeEXBqgEz",
        "colab_type": "code",
        "colab": {},
        "outputId": "4d12cf45-21d2-4f8b-b8a6-3b6c401e53ba"
      },
      "source": [
        "data <- mtcars\n",
        "head(data)"
      ],
      "execution_count": 0,
      "outputs": [
        {
          "output_type": "display_data",
          "data": {
            "text/plain": [
              "                  mpg  cyl disp hp  drat wt    qsec  vs am gear carb\n",
              "Mazda RX4         21.0 6   160  110 3.90 2.620 16.46 0  1  4    4   \n",
              "Mazda RX4 Wag     21.0 6   160  110 3.90 2.875 17.02 0  1  4    4   \n",
              "Datsun 710        22.8 4   108   93 3.85 2.320 18.61 1  1  4    1   \n",
              "Hornet 4 Drive    21.4 6   258  110 3.08 3.215 19.44 1  0  3    1   \n",
              "Hornet Sportabout 18.7 8   360  175 3.15 3.440 17.02 0  0  3    2   \n",
              "Valiant           18.1 6   225  105 2.76 3.460 20.22 1  0  3    1   "
            ],
            "text/latex": "A data.frame: 6 x 11\n\\begin{tabular}{r|lllllllllll}\n  & mpg & cyl & disp & hp & drat & wt & qsec & vs & am & gear & carb\\\\\n  & <dbl> & <dbl> & <dbl> & <dbl> & <dbl> & <dbl> & <dbl> & <dbl> & <dbl> & <dbl> & <dbl>\\\\\n\\hline\n\tMazda RX4 & 21.0 & 6 & 160 & 110 & 3.90 & 2.620 & 16.46 & 0 & 1 & 4 & 4\\\\\n\tMazda RX4 Wag & 21.0 & 6 & 160 & 110 & 3.90 & 2.875 & 17.02 & 0 & 1 & 4 & 4\\\\\n\tDatsun 710 & 22.8 & 4 & 108 &  93 & 3.85 & 2.320 & 18.61 & 1 & 1 & 4 & 1\\\\\n\tHornet 4 Drive & 21.4 & 6 & 258 & 110 & 3.08 & 3.215 & 19.44 & 1 & 0 & 3 & 1\\\\\n\tHornet Sportabout & 18.7 & 8 & 360 & 175 & 3.15 & 3.440 & 17.02 & 0 & 0 & 3 & 2\\\\\n\tValiant & 18.1 & 6 & 225 & 105 & 2.76 & 3.460 & 20.22 & 1 & 0 & 3 & 1\\\\\n\\end{tabular}\n",
            "text/markdown": "\nA data.frame: 6 x 11\n\n| <!--/--> | mpg &lt;dbl&gt; | cyl &lt;dbl&gt; | disp &lt;dbl&gt; | hp &lt;dbl&gt; | drat &lt;dbl&gt; | wt &lt;dbl&gt; | qsec &lt;dbl&gt; | vs &lt;dbl&gt; | am &lt;dbl&gt; | gear &lt;dbl&gt; | carb &lt;dbl&gt; |\n|---|---|---|---|---|---|---|---|---|---|---|---|\n| Mazda RX4 | 21.0 | 6 | 160 | 110 | 3.90 | 2.620 | 16.46 | 0 | 1 | 4 | 4 |\n| Mazda RX4 Wag | 21.0 | 6 | 160 | 110 | 3.90 | 2.875 | 17.02 | 0 | 1 | 4 | 4 |\n| Datsun 710 | 22.8 | 4 | 108 |  93 | 3.85 | 2.320 | 18.61 | 1 | 1 | 4 | 1 |\n| Hornet 4 Drive | 21.4 | 6 | 258 | 110 | 3.08 | 3.215 | 19.44 | 1 | 0 | 3 | 1 |\n| Hornet Sportabout | 18.7 | 8 | 360 | 175 | 3.15 | 3.440 | 17.02 | 0 | 0 | 3 | 2 |\n| Valiant | 18.1 | 6 | 225 | 105 | 2.76 | 3.460 | 20.22 | 1 | 0 | 3 | 1 |\n\n",
            "text/html": [
              "<table>\n",
              "<caption>A data.frame: 6 x 11</caption>\n",
              "<thead>\n",
              "\t<tr><th></th><th scope=col>mpg</th><th scope=col>cyl</th><th scope=col>disp</th><th scope=col>hp</th><th scope=col>drat</th><th scope=col>wt</th><th scope=col>qsec</th><th scope=col>vs</th><th scope=col>am</th><th scope=col>gear</th><th scope=col>carb</th></tr>\n",
              "\t<tr><th></th><th scope=col>&lt;dbl&gt;</th><th scope=col>&lt;dbl&gt;</th><th scope=col>&lt;dbl&gt;</th><th scope=col>&lt;dbl&gt;</th><th scope=col>&lt;dbl&gt;</th><th scope=col>&lt;dbl&gt;</th><th scope=col>&lt;dbl&gt;</th><th scope=col>&lt;dbl&gt;</th><th scope=col>&lt;dbl&gt;</th><th scope=col>&lt;dbl&gt;</th><th scope=col>&lt;dbl&gt;</th></tr>\n",
              "</thead>\n",
              "<tbody>\n",
              "\t<tr><th scope=row>Mazda RX4</th><td>21.0</td><td>6</td><td>160</td><td>110</td><td>3.90</td><td>2.620</td><td>16.46</td><td>0</td><td>1</td><td>4</td><td>4</td></tr>\n",
              "\t<tr><th scope=row>Mazda RX4 Wag</th><td>21.0</td><td>6</td><td>160</td><td>110</td><td>3.90</td><td>2.875</td><td>17.02</td><td>0</td><td>1</td><td>4</td><td>4</td></tr>\n",
              "\t<tr><th scope=row>Datsun 710</th><td>22.8</td><td>4</td><td>108</td><td> 93</td><td>3.85</td><td>2.320</td><td>18.61</td><td>1</td><td>1</td><td>4</td><td>1</td></tr>\n",
              "\t<tr><th scope=row>Hornet 4 Drive</th><td>21.4</td><td>6</td><td>258</td><td>110</td><td>3.08</td><td>3.215</td><td>19.44</td><td>1</td><td>0</td><td>3</td><td>1</td></tr>\n",
              "\t<tr><th scope=row>Hornet Sportabout</th><td>18.7</td><td>8</td><td>360</td><td>175</td><td>3.15</td><td>3.440</td><td>17.02</td><td>0</td><td>0</td><td>3</td><td>2</td></tr>\n",
              "\t<tr><th scope=row>Valiant</th><td>18.1</td><td>6</td><td>225</td><td>105</td><td>2.76</td><td>3.460</td><td>20.22</td><td>1</td><td>0</td><td>3</td><td>1</td></tr>\n",
              "</tbody>\n",
              "</table>\n"
            ]
          },
          "metadata": {
            "tags": []
          }
        }
      ]
    },
    {
      "cell_type": "code",
      "metadata": {
        "trusted": true,
        "id": "8HVgDlinqgE5",
        "colab_type": "code",
        "colab": {},
        "outputId": "d58a99e2-ce02-48c7-c5cb-3b9273c25618"
      },
      "source": [
        "str(data)"
      ],
      "execution_count": 0,
      "outputs": [
        {
          "output_type": "stream",
          "text": [
            "'data.frame':\t32 obs. of  11 variables:\n",
            " $ mpg : num  21 21 22.8 21.4 18.7 18.1 14.3 24.4 22.8 19.2 ...\n",
            " $ cyl : num  6 6 4 6 8 6 8 4 4 6 ...\n",
            " $ disp: num  160 160 108 258 360 ...\n",
            " $ hp  : num  110 110 93 110 175 105 245 62 95 123 ...\n",
            " $ drat: num  3.9 3.9 3.85 3.08 3.15 2.76 3.21 3.69 3.92 3.92 ...\n",
            " $ wt  : num  2.62 2.88 2.32 3.21 3.44 ...\n",
            " $ qsec: num  16.5 17 18.6 19.4 17 ...\n",
            " $ vs  : num  0 0 1 1 0 1 0 1 1 1 ...\n",
            " $ am  : num  1 1 1 0 0 0 0 0 0 0 ...\n",
            " $ gear: num  4 4 4 3 3 3 3 4 4 4 ...\n",
            " $ carb: num  4 4 1 1 2 1 4 2 2 4 ...\n"
          ],
          "name": "stdout"
        }
      ]
    },
    {
      "cell_type": "code",
      "metadata": {
        "trusted": true,
        "id": "g-88oc9HqgE9",
        "colab_type": "code",
        "colab": {},
        "outputId": "226ed414-7452-462e-d2b0-3ac5f97f19ca"
      },
      "source": [
        "dim(data) #data shape"
      ],
      "execution_count": 0,
      "outputs": [
        {
          "output_type": "display_data",
          "data": {
            "text/plain": [
              "[1] 32 11"
            ],
            "text/latex": "\\begin{enumerate*}\n\\item 32\n\\item 11\n\\end{enumerate*}\n",
            "text/markdown": "1. 32\n2. 11\n\n\n",
            "text/html": [
              "<ol class=list-inline>\n",
              "\t<li>32</li>\n",
              "\t<li>11</li>\n",
              "</ol>\n"
            ]
          },
          "metadata": {
            "tags": []
          }
        }
      ]
    },
    {
      "cell_type": "code",
      "metadata": {
        "trusted": true,
        "id": "yFpnQlJFqgFA",
        "colab_type": "code",
        "colab": {},
        "outputId": "5d7be53c-dc0d-40d8-8cf9-acf52765a98f"
      },
      "source": [
        "summary(data) #descriptive stat. of data frame"
      ],
      "execution_count": 0,
      "outputs": [
        {
          "output_type": "display_data",
          "data": {
            "text/plain": [
              "      mpg             cyl             disp             hp       \n",
              " Min.   :10.40   Min.   :4.000   Min.   : 71.1   Min.   : 52.0  \n",
              " 1st Qu.:15.43   1st Qu.:4.000   1st Qu.:120.8   1st Qu.: 96.5  \n",
              " Median :19.20   Median :6.000   Median :196.3   Median :123.0  \n",
              " Mean   :20.09   Mean   :6.188   Mean   :230.7   Mean   :146.7  \n",
              " 3rd Qu.:22.80   3rd Qu.:8.000   3rd Qu.:326.0   3rd Qu.:180.0  \n",
              " Max.   :33.90   Max.   :8.000   Max.   :472.0   Max.   :335.0  \n",
              "      drat             wt             qsec             vs        \n",
              " Min.   :2.760   Min.   :1.513   Min.   :14.50   Min.   :0.0000  \n",
              " 1st Qu.:3.080   1st Qu.:2.581   1st Qu.:16.89   1st Qu.:0.0000  \n",
              " Median :3.695   Median :3.325   Median :17.71   Median :0.0000  \n",
              " Mean   :3.597   Mean   :3.217   Mean   :17.85   Mean   :0.4375  \n",
              " 3rd Qu.:3.920   3rd Qu.:3.610   3rd Qu.:18.90   3rd Qu.:1.0000  \n",
              " Max.   :4.930   Max.   :5.424   Max.   :22.90   Max.   :1.0000  \n",
              "       am              gear            carb      \n",
              " Min.   :0.0000   Min.   :3.000   Min.   :1.000  \n",
              " 1st Qu.:0.0000   1st Qu.:3.000   1st Qu.:2.000  \n",
              " Median :0.0000   Median :4.000   Median :2.000  \n",
              " Mean   :0.4062   Mean   :3.688   Mean   :2.812  \n",
              " 3rd Qu.:1.0000   3rd Qu.:4.000   3rd Qu.:4.000  \n",
              " Max.   :1.0000   Max.   :5.000   Max.   :8.000  "
            ]
          },
          "metadata": {
            "tags": []
          }
        }
      ]
    },
    {
      "cell_type": "code",
      "metadata": {
        "trusted": true,
        "id": "NmpYjX-rqgFD",
        "colab_type": "code",
        "colab": {},
        "outputId": "854dc648-ae87-44b3-a444-1bdc038c0b5f"
      },
      "source": [
        "complete.cases(data) #check if there no missing value in each column"
      ],
      "execution_count": 0,
      "outputs": [
        {
          "output_type": "display_data",
          "data": {
            "text/plain": [
              " [1] TRUE TRUE TRUE TRUE TRUE TRUE TRUE TRUE TRUE TRUE TRUE TRUE TRUE TRUE TRUE\n",
              "[16] TRUE TRUE TRUE TRUE TRUE TRUE TRUE TRUE TRUE TRUE TRUE TRUE TRUE TRUE TRUE\n",
              "[31] TRUE TRUE"
            ],
            "text/latex": "\\begin{enumerate*}\n\\item TRUE\n\\item TRUE\n\\item TRUE\n\\item TRUE\n\\item TRUE\n\\item TRUE\n\\item TRUE\n\\item TRUE\n\\item TRUE\n\\item TRUE\n\\item TRUE\n\\item TRUE\n\\item TRUE\n\\item TRUE\n\\item TRUE\n\\item TRUE\n\\item TRUE\n\\item TRUE\n\\item TRUE\n\\item TRUE\n\\item TRUE\n\\item TRUE\n\\item TRUE\n\\item TRUE\n\\item TRUE\n\\item TRUE\n\\item TRUE\n\\item TRUE\n\\item TRUE\n\\item TRUE\n\\item TRUE\n\\item TRUE\n\\end{enumerate*}\n",
            "text/markdown": "1. TRUE\n2. TRUE\n3. TRUE\n4. TRUE\n5. TRUE\n6. TRUE\n7. TRUE\n8. TRUE\n9. TRUE\n10. TRUE\n11. TRUE\n12. TRUE\n13. TRUE\n14. TRUE\n15. TRUE\n16. TRUE\n17. TRUE\n18. TRUE\n19. TRUE\n20. TRUE\n21. TRUE\n22. TRUE\n23. TRUE\n24. TRUE\n25. TRUE\n26. TRUE\n27. TRUE\n28. TRUE\n29. TRUE\n30. TRUE\n31. TRUE\n32. TRUE\n\n\n",
            "text/html": [
              "<ol class=list-inline>\n",
              "\t<li>TRUE</li>\n",
              "\t<li>TRUE</li>\n",
              "\t<li>TRUE</li>\n",
              "\t<li>TRUE</li>\n",
              "\t<li>TRUE</li>\n",
              "\t<li>TRUE</li>\n",
              "\t<li>TRUE</li>\n",
              "\t<li>TRUE</li>\n",
              "\t<li>TRUE</li>\n",
              "\t<li>TRUE</li>\n",
              "\t<li>TRUE</li>\n",
              "\t<li>TRUE</li>\n",
              "\t<li>TRUE</li>\n",
              "\t<li>TRUE</li>\n",
              "\t<li>TRUE</li>\n",
              "\t<li>TRUE</li>\n",
              "\t<li>TRUE</li>\n",
              "\t<li>TRUE</li>\n",
              "\t<li>TRUE</li>\n",
              "\t<li>TRUE</li>\n",
              "\t<li>TRUE</li>\n",
              "\t<li>TRUE</li>\n",
              "\t<li>TRUE</li>\n",
              "\t<li>TRUE</li>\n",
              "\t<li>TRUE</li>\n",
              "\t<li>TRUE</li>\n",
              "\t<li>TRUE</li>\n",
              "\t<li>TRUE</li>\n",
              "\t<li>TRUE</li>\n",
              "\t<li>TRUE</li>\n",
              "\t<li>TRUE</li>\n",
              "\t<li>TRUE</li>\n",
              "</ol>\n"
            ]
          },
          "metadata": {
            "tags": []
          }
        }
      ]
    },
    {
      "cell_type": "code",
      "metadata": {
        "trusted": true,
        "id": "xfvk_rB5qgFH",
        "colab_type": "code",
        "colab": {},
        "outputId": "42e459f3-23b5-4a0c-d10b-508efaf6df83"
      },
      "source": [
        "mean(data$mpg) #access each column data by using symbol '$' follow by column name"
      ],
      "execution_count": 0,
      "outputs": [
        {
          "output_type": "display_data",
          "data": {
            "text/plain": [
              "[1] 20.09062"
            ],
            "text/latex": "20.090625",
            "text/markdown": "20.090625",
            "text/html": [
              "20.090625"
            ]
          },
          "metadata": {
            "tags": []
          }
        }
      ]
    },
    {
      "cell_type": "code",
      "metadata": {
        "trusted": true,
        "id": "-QZWxz7pqgFK",
        "colab_type": "code",
        "colab": {},
        "outputId": "b6d40ad8-2e05-4453-9596-2af6119e7602"
      },
      "source": [
        "#standardize is one of statistical method, to normalize a data value\n",
        "standardize <- function(x){\n",
        "    (x - mean(x)) / sd(x)\n",
        "}\n",
        "\n",
        "#apply use for apply the specific function to the matrix\n",
        "#1 stand for row wise / 2 for column wise\n",
        "new_data <- apply(data, 2, standardize)\n",
        "head(new_data)"
      ],
      "execution_count": 0,
      "outputs": [
        {
          "output_type": "display_data",
          "data": {
            "text/plain": [
              "                  mpg        cyl        disp        hp         drat      \n",
              "Mazda RX4          0.1508848 -0.1049878 -0.57061982 -0.5350928  0.5675137\n",
              "Mazda RX4 Wag      0.1508848 -0.1049878 -0.57061982 -0.5350928  0.5675137\n",
              "Datsun 710         0.4495434 -1.2248578 -0.99018209 -0.7830405  0.4739996\n",
              "Hornet 4 Drive     0.2172534 -0.1049878  0.22009369 -0.5350928 -0.9661175\n",
              "Hornet Sportabout -0.2307345  1.0148821  1.04308123  0.4129422 -0.8351978\n",
              "Valiant           -0.3302874 -0.1049878 -0.04616698 -0.6080186 -1.5646078\n",
              "                  wt           qsec       vs         am         gear      \n",
              "Mazda RX4         -0.610399567 -0.7771651 -0.8680278  1.1899014  0.4235542\n",
              "Mazda RX4 Wag     -0.349785269 -0.4637808 -0.8680278  1.1899014  0.4235542\n",
              "Datsun 710        -0.917004624  0.4260068  1.1160357  1.1899014  0.4235542\n",
              "Hornet 4 Drive    -0.002299538  0.8904872  1.1160357 -0.8141431 -0.9318192\n",
              "Hornet Sportabout  0.227654255 -0.4637808 -0.8680278 -0.8141431 -0.9318192\n",
              "Valiant            0.248094592  1.3269868  1.1160357 -0.8141431 -0.9318192\n",
              "                  carb      \n",
              "Mazda RX4          0.7352031\n",
              "Mazda RX4 Wag      0.7352031\n",
              "Datsun 710        -1.1221521\n",
              "Hornet 4 Drive    -1.1221521\n",
              "Hornet Sportabout -0.5030337\n",
              "Valiant           -1.1221521"
            ],
            "text/latex": "A matrix: 6 x 11 of type dbl\n\\begin{tabular}{r|lllllllllll}\n  & mpg & cyl & disp & hp & drat & wt & qsec & vs & am & gear & carb\\\\\n\\hline\n\tMazda RX4 &  0.1508848 & -0.1049878 & -0.57061982 & -0.5350928 &  0.5675137 & -0.610399567 & -0.7771651 & -0.8680278 &  1.1899014 &  0.4235542 &  0.7352031\\\\\n\tMazda RX4 Wag &  0.1508848 & -0.1049878 & -0.57061982 & -0.5350928 &  0.5675137 & -0.349785269 & -0.4637808 & -0.8680278 &  1.1899014 &  0.4235542 &  0.7352031\\\\\n\tDatsun 710 &  0.4495434 & -1.2248578 & -0.99018209 & -0.7830405 &  0.4739996 & -0.917004624 &  0.4260068 &  1.1160357 &  1.1899014 &  0.4235542 & -1.1221521\\\\\n\tHornet 4 Drive &  0.2172534 & -0.1049878 &  0.22009369 & -0.5350928 & -0.9661175 & -0.002299538 &  0.8904872 &  1.1160357 & -0.8141431 & -0.9318192 & -1.1221521\\\\\n\tHornet Sportabout & -0.2307345 &  1.0148821 &  1.04308123 &  0.4129422 & -0.8351978 &  0.227654255 & -0.4637808 & -0.8680278 & -0.8141431 & -0.9318192 & -0.5030337\\\\\n\tValiant & -0.3302874 & -0.1049878 & -0.04616698 & -0.6080186 & -1.5646078 &  0.248094592 &  1.3269868 &  1.1160357 & -0.8141431 & -0.9318192 & -1.1221521\\\\\n\\end{tabular}\n",
            "text/markdown": "\nA matrix: 6 x 11 of type dbl\n\n| <!--/--> | mpg | cyl | disp | hp | drat | wt | qsec | vs | am | gear | carb |\n|---|---|---|---|---|---|---|---|---|---|---|---|\n| Mazda RX4 |  0.1508848 | -0.1049878 | -0.57061982 | -0.5350928 |  0.5675137 | -0.610399567 | -0.7771651 | -0.8680278 |  1.1899014 |  0.4235542 |  0.7352031 |\n| Mazda RX4 Wag |  0.1508848 | -0.1049878 | -0.57061982 | -0.5350928 |  0.5675137 | -0.349785269 | -0.4637808 | -0.8680278 |  1.1899014 |  0.4235542 |  0.7352031 |\n| Datsun 710 |  0.4495434 | -1.2248578 | -0.99018209 | -0.7830405 |  0.4739996 | -0.917004624 |  0.4260068 |  1.1160357 |  1.1899014 |  0.4235542 | -1.1221521 |\n| Hornet 4 Drive |  0.2172534 | -0.1049878 |  0.22009369 | -0.5350928 | -0.9661175 | -0.002299538 |  0.8904872 |  1.1160357 | -0.8141431 | -0.9318192 | -1.1221521 |\n| Hornet Sportabout | -0.2307345 |  1.0148821 |  1.04308123 |  0.4129422 | -0.8351978 |  0.227654255 | -0.4637808 | -0.8680278 | -0.8141431 | -0.9318192 | -0.5030337 |\n| Valiant | -0.3302874 | -0.1049878 | -0.04616698 | -0.6080186 | -1.5646078 |  0.248094592 |  1.3269868 |  1.1160357 | -0.8141431 | -0.9318192 | -1.1221521 |\n\n",
            "text/html": [
              "<table>\n",
              "<caption>A matrix: 6 x 11 of type dbl</caption>\n",
              "<thead>\n",
              "\t<tr><th></th><th scope=col>mpg</th><th scope=col>cyl</th><th scope=col>disp</th><th scope=col>hp</th><th scope=col>drat</th><th scope=col>wt</th><th scope=col>qsec</th><th scope=col>vs</th><th scope=col>am</th><th scope=col>gear</th><th scope=col>carb</th></tr>\n",
              "</thead>\n",
              "<tbody>\n",
              "\t<tr><th scope=row>Mazda RX4</th><td> 0.1508848</td><td>-0.1049878</td><td>-0.57061982</td><td>-0.5350928</td><td> 0.5675137</td><td>-0.610399567</td><td>-0.7771651</td><td>-0.8680278</td><td> 1.1899014</td><td> 0.4235542</td><td> 0.7352031</td></tr>\n",
              "\t<tr><th scope=row>Mazda RX4 Wag</th><td> 0.1508848</td><td>-0.1049878</td><td>-0.57061982</td><td>-0.5350928</td><td> 0.5675137</td><td>-0.349785269</td><td>-0.4637808</td><td>-0.8680278</td><td> 1.1899014</td><td> 0.4235542</td><td> 0.7352031</td></tr>\n",
              "\t<tr><th scope=row>Datsun 710</th><td> 0.4495434</td><td>-1.2248578</td><td>-0.99018209</td><td>-0.7830405</td><td> 0.4739996</td><td>-0.917004624</td><td> 0.4260068</td><td> 1.1160357</td><td> 1.1899014</td><td> 0.4235542</td><td>-1.1221521</td></tr>\n",
              "\t<tr><th scope=row>Hornet 4 Drive</th><td> 0.2172534</td><td>-0.1049878</td><td> 0.22009369</td><td>-0.5350928</td><td>-0.9661175</td><td>-0.002299538</td><td> 0.8904872</td><td> 1.1160357</td><td>-0.8141431</td><td>-0.9318192</td><td>-1.1221521</td></tr>\n",
              "\t<tr><th scope=row>Hornet Sportabout</th><td>-0.2307345</td><td> 1.0148821</td><td> 1.04308123</td><td> 0.4129422</td><td>-0.8351978</td><td> 0.227654255</td><td>-0.4637808</td><td>-0.8680278</td><td>-0.8141431</td><td>-0.9318192</td><td>-0.5030337</td></tr>\n",
              "\t<tr><th scope=row>Valiant</th><td>-0.3302874</td><td>-0.1049878</td><td>-0.04616698</td><td>-0.6080186</td><td>-1.5646078</td><td> 0.248094592</td><td> 1.3269868</td><td> 1.1160357</td><td>-0.8141431</td><td>-0.9318192</td><td>-1.1221521</td></tr>\n",
              "</tbody>\n",
              "</table>\n"
            ]
          },
          "metadata": {
            "tags": []
          }
        }
      ]
    }
  ]
}