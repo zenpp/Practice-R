{
  "nbformat": 4,
  "nbformat_minor": 0,
  "metadata": {
    "kernelspec": {
      "name": "r",
      "display_name": "R",
      "language": "R"
    },
    "language_info": {
      "mimetype": "text/x-r-source",
      "name": "R",
      "pygments_lexer": "r",
      "version": "3.5.3",
      "file_extension": ".r",
      "codemirror_mode": "r"
    },
    "colab": {
      "name": "1) R basic command.ipynb",
      "provenance": [],
      "include_colab_link": true
    }
  },
  "cells": [
    {
      "cell_type": "markdown",
      "metadata": {
        "id": "view-in-github",
        "colab_type": "text"
      },
      "source": [
        "<a href=\"https://colab.research.google.com/github/zenpp/Practice-R/blob/master/Introduction%20to%20R/R_basic_command.ipynb\" target=\"_parent\"><img src=\"https://colab.research.google.com/assets/colab-badge.svg\" alt=\"Open In Colab\"/></a>"
      ]
    },
    {
      "cell_type": "code",
      "metadata": {
        "trusted": true,
        "id": "LhKhUi2pi8wb",
        "colab_type": "code",
        "outputId": "dc48af5e-1d4a-4bbe-98ff-982d051a35c6",
        "colab": {
          "base_uri": "https://localhost:8080/",
          "height": 34
        }
      },
      "source": [
        "print(1)"
      ],
      "execution_count": 0,
      "outputs": [
        {
          "output_type": "stream",
          "text": [
            "1\n"
          ],
          "name": "stdout"
        }
      ]
    },
    {
      "cell_type": "code",
      "metadata": {
        "trusted": true,
        "id": "u8Arv4Fai8wi",
        "colab_type": "code",
        "outputId": "cd2c24f1-033e-467e-91a2-36322973eff2",
        "colab": {}
      },
      "source": [
        "1*8"
      ],
      "execution_count": 0,
      "outputs": [
        {
          "output_type": "display_data",
          "data": {
            "text/plain": [
              "[1] 8"
            ],
            "text/latex": "8",
            "text/markdown": "8",
            "text/html": [
              "8"
            ]
          },
          "metadata": {
            "tags": []
          }
        }
      ]
    },
    {
      "cell_type": "code",
      "metadata": {
        "trusted": true,
        "id": "-u0iMUtgi8wl",
        "colab_type": "code",
        "outputId": "a25e515d-4a96-4b7e-baba-a767aafaf96d",
        "colab": {}
      },
      "source": [
        "2**5"
      ],
      "execution_count": 0,
      "outputs": [
        {
          "output_type": "display_data",
          "data": {
            "text/plain": [
              "[1] 32"
            ],
            "text/latex": "32",
            "text/markdown": "32",
            "text/html": [
              "32"
            ]
          },
          "metadata": {
            "tags": []
          }
        }
      ]
    },
    {
      "cell_type": "code",
      "metadata": {
        "trusted": true,
        "id": "T9bosw5Bi8wo",
        "colab_type": "code",
        "outputId": "123b0e8f-9aa7-4c36-cf6b-17d070f93c16",
        "colab": {}
      },
      "source": [
        "sqrt(81)"
      ],
      "execution_count": 0,
      "outputs": [
        {
          "output_type": "display_data",
          "data": {
            "text/plain": [
              "[1] 9"
            ],
            "text/latex": "9",
            "text/markdown": "9",
            "text/html": [
              "9"
            ]
          },
          "metadata": {
            "tags": []
          }
        }
      ]
    },
    {
      "cell_type": "code",
      "metadata": {
        "trusted": true,
        "id": "AJlcGr-Ii8wq",
        "colab_type": "code",
        "outputId": "e01b58e5-5daf-422c-ad43-b0a9ffc047d7",
        "colab": {}
      },
      "source": [
        "c <- 1:10\n",
        "print(c)"
      ],
      "execution_count": 0,
      "outputs": [
        {
          "output_type": "stream",
          "text": [
            " [1]  1  2  3  4  5  6  7  8  9 10\n"
          ],
          "name": "stdout"
        }
      ]
    },
    {
      "cell_type": "code",
      "metadata": {
        "trusted": true,
        "id": "zNNOne4Ti8ww",
        "colab_type": "code",
        "outputId": "cdb9851d-5ec3-4342-fa19-858c253e8cb3",
        "colab": {}
      },
      "source": [
        "c <- 5\n",
        "if(c %% 5 == 0){\n",
        "    print('a')\n",
        "}else{\n",
        "    print('b')\n",
        "}"
      ],
      "execution_count": 0,
      "outputs": [
        {
          "output_type": "stream",
          "text": [
            "[1] \"a\"\n"
          ],
          "name": "stdout"
        }
      ]
    },
    {
      "cell_type": "code",
      "metadata": {
        "trusted": true,
        "id": "MRzpB8r_i8w2",
        "colab_type": "code",
        "outputId": "9312283c-f40a-44c5-9477-0c176b735fce",
        "colab": {}
      },
      "source": [
        "add <- function(x,y){\n",
        "   x*y\n",
        "}\n",
        "add(8,9)"
      ],
      "execution_count": 0,
      "outputs": [
        {
          "output_type": "display_data",
          "data": {
            "text/plain": [
              "[1] 72"
            ],
            "text/latex": "72",
            "text/markdown": "72",
            "text/html": [
              "72"
            ]
          },
          "metadata": {
            "tags": []
          }
        }
      ]
    },
    {
      "cell_type": "code",
      "metadata": {
        "trusted": true,
        "id": "MSe9GZiSi8w6",
        "colab_type": "code",
        "outputId": "a1e1dbff-674b-4f37-d455-ef5ecc2a302c",
        "colab": {}
      },
      "source": [
        "arr <- c(1,2,3,4,5)\n",
        "for (val in arr){\n",
        "    arr[val] <- val*2\n",
        "}\n",
        "print(arr)"
      ],
      "execution_count": 0,
      "outputs": [
        {
          "output_type": "stream",
          "text": [
            "[1]  2  4  6  8 10\n"
          ],
          "name": "stdout"
        }
      ]
    },
    {
      "cell_type": "code",
      "metadata": {
        "trusted": true,
        "id": "g66C9Hb9i8w9",
        "colab_type": "code",
        "outputId": "efb0f763-ed27-4c10-ddbf-3f3f5201902a",
        "colab": {}
      },
      "source": [
        "test <- sample(100,100)\n",
        "print(test)"
      ],
      "execution_count": 0,
      "outputs": [
        {
          "output_type": "stream",
          "text": [
            "  [1]  77  35  99  60   5   3  63  95  72  62  14  46  47  50  73  74  45  23\n",
            " [19]  42  29  76  84  67  38  18  40   6  41 100  26  43  65  55  66  27   2\n",
            " [37]  93  11  92  44  39  51  15  78  19  97  64  91  25  69  71  59  12   9\n",
            " [55]  86  34  49  57  96  31  53  56   8  37  48  88  89  28  61  83  24  52\n",
            " [73]  54   4  58  36  33  94  70  16  82  68  22  10  17  75  98  85  21  32\n",
            " [91]  30  81  87  79   1  90   7  20  13  80\n"
          ],
          "name": "stdout"
        }
      ]
    },
    {
      "cell_type": "code",
      "metadata": {
        "trusted": true,
        "id": "oPyBv_ysi8xC",
        "colab_type": "code",
        "outputId": "e4074176-2660-4517-f07f-ac04bfcfa83e",
        "colab": {}
      },
      "source": [
        "summary(test)"
      ],
      "execution_count": 0,
      "outputs": [
        {
          "output_type": "display_data",
          "data": {
            "text/plain": [
              "   Min. 1st Qu.  Median    Mean 3rd Qu.    Max. \n",
              "   1.00   25.75   50.50   50.50   75.25  100.00 "
            ]
          },
          "metadata": {
            "tags": []
          }
        }
      ]
    },
    {
      "cell_type": "code",
      "metadata": {
        "trusted": true,
        "id": "lOOkORH1i8xF",
        "colab_type": "code",
        "outputId": "600f0886-e3c2-4009-c68b-89786b55927d",
        "colab": {}
      },
      "source": [
        "x <- c(100,200,300,400,500)\n",
        "x >= 300"
      ],
      "execution_count": 0,
      "outputs": [
        {
          "output_type": "display_data",
          "data": {
            "text/plain": [
              "[1] FALSE FALSE  TRUE  TRUE  TRUE"
            ],
            "text/latex": "\\begin{enumerate*}\n\\item FALSE\n\\item FALSE\n\\item TRUE\n\\item TRUE\n\\item TRUE\n\\end{enumerate*}\n",
            "text/markdown": "1. FALSE\n2. FALSE\n3. TRUE\n4. TRUE\n5. TRUE\n\n\n",
            "text/html": [
              "<ol class=list-inline>\n",
              "\t<li>FALSE</li>\n",
              "\t<li>FALSE</li>\n",
              "\t<li>TRUE</li>\n",
              "\t<li>TRUE</li>\n",
              "\t<li>TRUE</li>\n",
              "</ol>\n"
            ]
          },
          "metadata": {
            "tags": []
          }
        }
      ]
    },
    {
      "cell_type": "code",
      "metadata": {
        "trusted": true,
        "id": "YiWiQ4WRi8xK",
        "colab_type": "code",
        "outputId": "56f90282-a957-41fe-cca1-7823fcda3eaf",
        "colab": {}
      },
      "source": [
        "print(sum(x))\n",
        "print(sum(x >= 300))"
      ],
      "execution_count": 0,
      "outputs": [
        {
          "output_type": "stream",
          "text": [
            "[1] 1500\n",
            "[1] 3\n"
          ],
          "name": "stdout"
        }
      ]
    },
    {
      "cell_type": "code",
      "metadata": {
        "trusted": true,
        "id": "o64xJi6oi8xM",
        "colab_type": "code",
        "outputId": "7fd3ca55-6b7e-46bd-e8b0-172d81a2b2c7",
        "colab": {}
      },
      "source": [
        "print(mean(x))\n",
        "print(mean(x >= 300))"
      ],
      "execution_count": 0,
      "outputs": [
        {
          "output_type": "stream",
          "text": [
            "[1] 300\n",
            "[1] 0.6\n"
          ],
          "name": "stdout"
        }
      ]
    },
    {
      "cell_type": "code",
      "metadata": {
        "trusted": true,
        "id": "x4aAq-IFi8xP",
        "colab_type": "code",
        "outputId": "f9b7043f-6134-46f6-ba58-36b249df9526",
        "colab": {}
      },
      "source": [
        "median(x >= 300)"
      ],
      "execution_count": 0,
      "outputs": [
        {
          "output_type": "display_data",
          "data": {
            "text/plain": [
              "[1] TRUE"
            ],
            "text/latex": "TRUE",
            "text/markdown": "TRUE",
            "text/html": [
              "TRUE"
            ]
          },
          "metadata": {
            "tags": []
          }
        }
      ]
    },
    {
      "cell_type": "code",
      "metadata": {
        "trusted": true,
        "id": "fb70-gsGi8xS",
        "colab_type": "code",
        "outputId": "83adc324-87c9-4c00-8472-81ee3335cec2",
        "colab": {}
      },
      "source": [
        "#vector declaration\n",
        "z <- seq(1, 100, by = 0.5)\n",
        "z"
      ],
      "execution_count": 0,
      "outputs": [
        {
          "output_type": "display_data",
          "data": {
            "text/plain": [
              "  [1]   1.0   1.5   2.0   2.5   3.0   3.5   4.0   4.5   5.0   5.5   6.0   6.5\n",
              " [13]   7.0   7.5   8.0   8.5   9.0   9.5  10.0  10.5  11.0  11.5  12.0  12.5\n",
              " [25]  13.0  13.5  14.0  14.5  15.0  15.5  16.0  16.5  17.0  17.5  18.0  18.5\n",
              " [37]  19.0  19.5  20.0  20.5  21.0  21.5  22.0  22.5  23.0  23.5  24.0  24.5\n",
              " [49]  25.0  25.5  26.0  26.5  27.0  27.5  28.0  28.5  29.0  29.5  30.0  30.5\n",
              " [61]  31.0  31.5  32.0  32.5  33.0  33.5  34.0  34.5  35.0  35.5  36.0  36.5\n",
              " [73]  37.0  37.5  38.0  38.5  39.0  39.5  40.0  40.5  41.0  41.5  42.0  42.5\n",
              " [85]  43.0  43.5  44.0  44.5  45.0  45.5  46.0  46.5  47.0  47.5  48.0  48.5\n",
              " [97]  49.0  49.5  50.0  50.5  51.0  51.5  52.0  52.5  53.0  53.5  54.0  54.5\n",
              "[109]  55.0  55.5  56.0  56.5  57.0  57.5  58.0  58.5  59.0  59.5  60.0  60.5\n",
              "[121]  61.0  61.5  62.0  62.5  63.0  63.5  64.0  64.5  65.0  65.5  66.0  66.5\n",
              "[133]  67.0  67.5  68.0  68.5  69.0  69.5  70.0  70.5  71.0  71.5  72.0  72.5\n",
              "[145]  73.0  73.5  74.0  74.5  75.0  75.5  76.0  76.5  77.0  77.5  78.0  78.5\n",
              "[157]  79.0  79.5  80.0  80.5  81.0  81.5  82.0  82.5  83.0  83.5  84.0  84.5\n",
              "[169]  85.0  85.5  86.0  86.5  87.0  87.5  88.0  88.5  89.0  89.5  90.0  90.5\n",
              "[181]  91.0  91.5  92.0  92.5  93.0  93.5  94.0  94.5  95.0  95.5  96.0  96.5\n",
              "[193]  97.0  97.5  98.0  98.5  99.0  99.5 100.0"
            ],
            "text/latex": "\\begin{enumerate*}\n\\item 1\n\\item 1.5\n\\item 2\n\\item 2.5\n\\item 3\n\\item 3.5\n\\item 4\n\\item 4.5\n\\item 5\n\\item 5.5\n\\item 6\n\\item 6.5\n\\item 7\n\\item 7.5\n\\item 8\n\\item 8.5\n\\item 9\n\\item 9.5\n\\item 10\n\\item 10.5\n\\item 11\n\\item 11.5\n\\item 12\n\\item 12.5\n\\item 13\n\\item 13.5\n\\item 14\n\\item 14.5\n\\item 15\n\\item 15.5\n\\item 16\n\\item 16.5\n\\item 17\n\\item 17.5\n\\item 18\n\\item 18.5\n\\item 19\n\\item 19.5\n\\item 20\n\\item 20.5\n\\item 21\n\\item 21.5\n\\item 22\n\\item 22.5\n\\item 23\n\\item 23.5\n\\item 24\n\\item 24.5\n\\item 25\n\\item 25.5\n\\item 26\n\\item 26.5\n\\item 27\n\\item 27.5\n\\item 28\n\\item 28.5\n\\item 29\n\\item 29.5\n\\item 30\n\\item 30.5\n\\item 31\n\\item 31.5\n\\item 32\n\\item 32.5\n\\item 33\n\\item 33.5\n\\item 34\n\\item 34.5\n\\item 35\n\\item 35.5\n\\item 36\n\\item 36.5\n\\item 37\n\\item 37.5\n\\item 38\n\\item 38.5\n\\item 39\n\\item 39.5\n\\item 40\n\\item 40.5\n\\item 41\n\\item 41.5\n\\item 42\n\\item 42.5\n\\item 43\n\\item 43.5\n\\item 44\n\\item 44.5\n\\item 45\n\\item 45.5\n\\item 46\n\\item 46.5\n\\item 47\n\\item 47.5\n\\item 48\n\\item 48.5\n\\item 49\n\\item 49.5\n\\item 50\n\\item 50.5\n\\item 51\n\\item 51.5\n\\item 52\n\\item 52.5\n\\item 53\n\\item 53.5\n\\item 54\n\\item 54.5\n\\item 55\n\\item 55.5\n\\item 56\n\\item 56.5\n\\item 57\n\\item 57.5\n\\item 58\n\\item 58.5\n\\item 59\n\\item 59.5\n\\item 60\n\\item 60.5\n\\item 61\n\\item 61.5\n\\item 62\n\\item 62.5\n\\item 63\n\\item 63.5\n\\item 64\n\\item 64.5\n\\item 65\n\\item 65.5\n\\item 66\n\\item 66.5\n\\item 67\n\\item 67.5\n\\item 68\n\\item 68.5\n\\item 69\n\\item 69.5\n\\item 70\n\\item 70.5\n\\item 71\n\\item 71.5\n\\item 72\n\\item 72.5\n\\item 73\n\\item 73.5\n\\item 74\n\\item 74.5\n\\item 75\n\\item 75.5\n\\item 76\n\\item 76.5\n\\item 77\n\\item 77.5\n\\item 78\n\\item 78.5\n\\item 79\n\\item 79.5\n\\item 80\n\\item 80.5\n\\item 81\n\\item 81.5\n\\item 82\n\\item 82.5\n\\item 83\n\\item 83.5\n\\item 84\n\\item 84.5\n\\item 85\n\\item 85.5\n\\item 86\n\\item 86.5\n\\item 87\n\\item 87.5\n\\item 88\n\\item 88.5\n\\item 89\n\\item 89.5\n\\item 90\n\\item 90.5\n\\item 91\n\\item 91.5\n\\item 92\n\\item 92.5\n\\item 93\n\\item 93.5\n\\item 94\n\\item 94.5\n\\item 95\n\\item 95.5\n\\item 96\n\\item 96.5\n\\item 97\n\\item 97.5\n\\item 98\n\\item 98.5\n\\item 99\n\\item 99.5\n\\item 100\n\\end{enumerate*}\n",
            "text/markdown": "1. 1\n2. 1.5\n3. 2\n4. 2.5\n5. 3\n6. 3.5\n7. 4\n8. 4.5\n9. 5\n10. 5.5\n11. 6\n12. 6.5\n13. 7\n14. 7.5\n15. 8\n16. 8.5\n17. 9\n18. 9.5\n19. 10\n20. 10.5\n21. 11\n22. 11.5\n23. 12\n24. 12.5\n25. 13\n26. 13.5\n27. 14\n28. 14.5\n29. 15\n30. 15.5\n31. 16\n32. 16.5\n33. 17\n34. 17.5\n35. 18\n36. 18.5\n37. 19\n38. 19.5\n39. 20\n40. 20.5\n41. 21\n42. 21.5\n43. 22\n44. 22.5\n45. 23\n46. 23.5\n47. 24\n48. 24.5\n49. 25\n50. 25.5\n51. 26\n52. 26.5\n53. 27\n54. 27.5\n55. 28\n56. 28.5\n57. 29\n58. 29.5\n59. 30\n60. 30.5\n61. 31\n62. 31.5\n63. 32\n64. 32.5\n65. 33\n66. 33.5\n67. 34\n68. 34.5\n69. 35\n70. 35.5\n71. 36\n72. 36.5\n73. 37\n74. 37.5\n75. 38\n76. 38.5\n77. 39\n78. 39.5\n79. 40\n80. 40.5\n81. 41\n82. 41.5\n83. 42\n84. 42.5\n85. 43\n86. 43.5\n87. 44\n88. 44.5\n89. 45\n90. 45.5\n91. 46\n92. 46.5\n93. 47\n94. 47.5\n95. 48\n96. 48.5\n97. 49\n98. 49.5\n99. 50\n100. 50.5\n101. 51\n102. 51.5\n103. 52\n104. 52.5\n105. 53\n106. 53.5\n107. 54\n108. 54.5\n109. 55\n110. 55.5\n111. 56\n112. 56.5\n113. 57\n114. 57.5\n115. 58\n116. 58.5\n117. 59\n118. 59.5\n119. 60\n120. 60.5\n121. 61\n122. 61.5\n123. 62\n124. 62.5\n125. 63\n126. 63.5\n127. 64\n128. 64.5\n129. 65\n130. 65.5\n131. 66\n132. 66.5\n133. 67\n134. 67.5\n135. 68\n136. 68.5\n137. 69\n138. 69.5\n139. 70\n140. 70.5\n141. 71\n142. 71.5\n143. 72\n144. 72.5\n145. 73\n146. 73.5\n147. 74\n148. 74.5\n149. 75\n150. 75.5\n151. 76\n152. 76.5\n153. 77\n154. 77.5\n155. 78\n156. 78.5\n157. 79\n158. 79.5\n159. 80\n160. 80.5\n161. 81\n162. 81.5\n163. 82\n164. 82.5\n165. 83\n166. 83.5\n167. 84\n168. 84.5\n169. 85\n170. 85.5\n171. 86\n172. 86.5\n173. 87\n174. 87.5\n175. 88\n176. 88.5\n177. 89\n178. 89.5\n179. 90\n180. 90.5\n181. 91\n182. 91.5\n183. 92\n184. 92.5\n185. 93\n186. 93.5\n187. 94\n188. 94.5\n189. 95\n190. 95.5\n191. 96\n192. 96.5\n193. 97\n194. 97.5\n195. 98\n196. 98.5\n197. 99\n198. 99.5\n199. 100\n\n\n",
            "text/html": [
              "<ol class=list-inline>\n",
              "\t<li>1</li>\n",
              "\t<li>1.5</li>\n",
              "\t<li>2</li>\n",
              "\t<li>2.5</li>\n",
              "\t<li>3</li>\n",
              "\t<li>3.5</li>\n",
              "\t<li>4</li>\n",
              "\t<li>4.5</li>\n",
              "\t<li>5</li>\n",
              "\t<li>5.5</li>\n",
              "\t<li>6</li>\n",
              "\t<li>6.5</li>\n",
              "\t<li>7</li>\n",
              "\t<li>7.5</li>\n",
              "\t<li>8</li>\n",
              "\t<li>8.5</li>\n",
              "\t<li>9</li>\n",
              "\t<li>9.5</li>\n",
              "\t<li>10</li>\n",
              "\t<li>10.5</li>\n",
              "\t<li>11</li>\n",
              "\t<li>11.5</li>\n",
              "\t<li>12</li>\n",
              "\t<li>12.5</li>\n",
              "\t<li>13</li>\n",
              "\t<li>13.5</li>\n",
              "\t<li>14</li>\n",
              "\t<li>14.5</li>\n",
              "\t<li>15</li>\n",
              "\t<li>15.5</li>\n",
              "\t<li>16</li>\n",
              "\t<li>16.5</li>\n",
              "\t<li>17</li>\n",
              "\t<li>17.5</li>\n",
              "\t<li>18</li>\n",
              "\t<li>18.5</li>\n",
              "\t<li>19</li>\n",
              "\t<li>19.5</li>\n",
              "\t<li>20</li>\n",
              "\t<li>20.5</li>\n",
              "\t<li>21</li>\n",
              "\t<li>21.5</li>\n",
              "\t<li>22</li>\n",
              "\t<li>22.5</li>\n",
              "\t<li>23</li>\n",
              "\t<li>23.5</li>\n",
              "\t<li>24</li>\n",
              "\t<li>24.5</li>\n",
              "\t<li>25</li>\n",
              "\t<li>25.5</li>\n",
              "\t<li>26</li>\n",
              "\t<li>26.5</li>\n",
              "\t<li>27</li>\n",
              "\t<li>27.5</li>\n",
              "\t<li>28</li>\n",
              "\t<li>28.5</li>\n",
              "\t<li>29</li>\n",
              "\t<li>29.5</li>\n",
              "\t<li>30</li>\n",
              "\t<li>30.5</li>\n",
              "\t<li>31</li>\n",
              "\t<li>31.5</li>\n",
              "\t<li>32</li>\n",
              "\t<li>32.5</li>\n",
              "\t<li>33</li>\n",
              "\t<li>33.5</li>\n",
              "\t<li>34</li>\n",
              "\t<li>34.5</li>\n",
              "\t<li>35</li>\n",
              "\t<li>35.5</li>\n",
              "\t<li>36</li>\n",
              "\t<li>36.5</li>\n",
              "\t<li>37</li>\n",
              "\t<li>37.5</li>\n",
              "\t<li>38</li>\n",
              "\t<li>38.5</li>\n",
              "\t<li>39</li>\n",
              "\t<li>39.5</li>\n",
              "\t<li>40</li>\n",
              "\t<li>40.5</li>\n",
              "\t<li>41</li>\n",
              "\t<li>41.5</li>\n",
              "\t<li>42</li>\n",
              "\t<li>42.5</li>\n",
              "\t<li>43</li>\n",
              "\t<li>43.5</li>\n",
              "\t<li>44</li>\n",
              "\t<li>44.5</li>\n",
              "\t<li>45</li>\n",
              "\t<li>45.5</li>\n",
              "\t<li>46</li>\n",
              "\t<li>46.5</li>\n",
              "\t<li>47</li>\n",
              "\t<li>47.5</li>\n",
              "\t<li>48</li>\n",
              "\t<li>48.5</li>\n",
              "\t<li>49</li>\n",
              "\t<li>49.5</li>\n",
              "\t<li>50</li>\n",
              "\t<li>50.5</li>\n",
              "\t<li>51</li>\n",
              "\t<li>51.5</li>\n",
              "\t<li>52</li>\n",
              "\t<li>52.5</li>\n",
              "\t<li>53</li>\n",
              "\t<li>53.5</li>\n",
              "\t<li>54</li>\n",
              "\t<li>54.5</li>\n",
              "\t<li>55</li>\n",
              "\t<li>55.5</li>\n",
              "\t<li>56</li>\n",
              "\t<li>56.5</li>\n",
              "\t<li>57</li>\n",
              "\t<li>57.5</li>\n",
              "\t<li>58</li>\n",
              "\t<li>58.5</li>\n",
              "\t<li>59</li>\n",
              "\t<li>59.5</li>\n",
              "\t<li>60</li>\n",
              "\t<li>60.5</li>\n",
              "\t<li>61</li>\n",
              "\t<li>61.5</li>\n",
              "\t<li>62</li>\n",
              "\t<li>62.5</li>\n",
              "\t<li>63</li>\n",
              "\t<li>63.5</li>\n",
              "\t<li>64</li>\n",
              "\t<li>64.5</li>\n",
              "\t<li>65</li>\n",
              "\t<li>65.5</li>\n",
              "\t<li>66</li>\n",
              "\t<li>66.5</li>\n",
              "\t<li>67</li>\n",
              "\t<li>67.5</li>\n",
              "\t<li>68</li>\n",
              "\t<li>68.5</li>\n",
              "\t<li>69</li>\n",
              "\t<li>69.5</li>\n",
              "\t<li>70</li>\n",
              "\t<li>70.5</li>\n",
              "\t<li>71</li>\n",
              "\t<li>71.5</li>\n",
              "\t<li>72</li>\n",
              "\t<li>72.5</li>\n",
              "\t<li>73</li>\n",
              "\t<li>73.5</li>\n",
              "\t<li>74</li>\n",
              "\t<li>74.5</li>\n",
              "\t<li>75</li>\n",
              "\t<li>75.5</li>\n",
              "\t<li>76</li>\n",
              "\t<li>76.5</li>\n",
              "\t<li>77</li>\n",
              "\t<li>77.5</li>\n",
              "\t<li>78</li>\n",
              "\t<li>78.5</li>\n",
              "\t<li>79</li>\n",
              "\t<li>79.5</li>\n",
              "\t<li>80</li>\n",
              "\t<li>80.5</li>\n",
              "\t<li>81</li>\n",
              "\t<li>81.5</li>\n",
              "\t<li>82</li>\n",
              "\t<li>82.5</li>\n",
              "\t<li>83</li>\n",
              "\t<li>83.5</li>\n",
              "\t<li>84</li>\n",
              "\t<li>84.5</li>\n",
              "\t<li>85</li>\n",
              "\t<li>85.5</li>\n",
              "\t<li>86</li>\n",
              "\t<li>86.5</li>\n",
              "\t<li>87</li>\n",
              "\t<li>87.5</li>\n",
              "\t<li>88</li>\n",
              "\t<li>88.5</li>\n",
              "\t<li>89</li>\n",
              "\t<li>89.5</li>\n",
              "\t<li>90</li>\n",
              "\t<li>90.5</li>\n",
              "\t<li>91</li>\n",
              "\t<li>91.5</li>\n",
              "\t<li>92</li>\n",
              "\t<li>92.5</li>\n",
              "\t<li>93</li>\n",
              "\t<li>93.5</li>\n",
              "\t<li>94</li>\n",
              "\t<li>94.5</li>\n",
              "\t<li>95</li>\n",
              "\t<li>95.5</li>\n",
              "\t<li>96</li>\n",
              "\t<li>96.5</li>\n",
              "\t<li>97</li>\n",
              "\t<li>97.5</li>\n",
              "\t<li>98</li>\n",
              "\t<li>98.5</li>\n",
              "\t<li>99</li>\n",
              "\t<li>99.5</li>\n",
              "\t<li>100</li>\n",
              "</ol>\n"
            ]
          },
          "metadata": {
            "tags": []
          }
        }
      ]
    },
    {
      "cell_type": "code",
      "metadata": {
        "trusted": true,
        "id": "NaV5ML_Ri8xV",
        "colab_type": "code",
        "outputId": "a545392b-ee78-48c3-e2ab-f7d11832087e",
        "colab": {}
      },
      "source": [
        "k <- rep(c(1,2,3), time = 10)\n",
        "k"
      ],
      "execution_count": 0,
      "outputs": [
        {
          "output_type": "display_data",
          "data": {
            "text/plain": [
              " [1] 1 2 3 1 2 3 1 2 3 1 2 3 1 2 3 1 2 3 1 2 3 1 2 3 1 2 3 1 2 3"
            ],
            "text/latex": "\\begin{enumerate*}\n\\item 1\n\\item 2\n\\item 3\n\\item 1\n\\item 2\n\\item 3\n\\item 1\n\\item 2\n\\item 3\n\\item 1\n\\item 2\n\\item 3\n\\item 1\n\\item 2\n\\item 3\n\\item 1\n\\item 2\n\\item 3\n\\item 1\n\\item 2\n\\item 3\n\\item 1\n\\item 2\n\\item 3\n\\item 1\n\\item 2\n\\item 3\n\\item 1\n\\item 2\n\\item 3\n\\end{enumerate*}\n",
            "text/markdown": "1. 1\n2. 2\n3. 3\n4. 1\n5. 2\n6. 3\n7. 1\n8. 2\n9. 3\n10. 1\n11. 2\n12. 3\n13. 1\n14. 2\n15. 3\n16. 1\n17. 2\n18. 3\n19. 1\n20. 2\n21. 3\n22. 1\n23. 2\n24. 3\n25. 1\n26. 2\n27. 3\n28. 1\n29. 2\n30. 3\n\n\n",
            "text/html": [
              "<ol class=list-inline>\n",
              "\t<li>1</li>\n",
              "\t<li>2</li>\n",
              "\t<li>3</li>\n",
              "\t<li>1</li>\n",
              "\t<li>2</li>\n",
              "\t<li>3</li>\n",
              "\t<li>1</li>\n",
              "\t<li>2</li>\n",
              "\t<li>3</li>\n",
              "\t<li>1</li>\n",
              "\t<li>2</li>\n",
              "\t<li>3</li>\n",
              "\t<li>1</li>\n",
              "\t<li>2</li>\n",
              "\t<li>3</li>\n",
              "\t<li>1</li>\n",
              "\t<li>2</li>\n",
              "\t<li>3</li>\n",
              "\t<li>1</li>\n",
              "\t<li>2</li>\n",
              "\t<li>3</li>\n",
              "\t<li>1</li>\n",
              "\t<li>2</li>\n",
              "\t<li>3</li>\n",
              "\t<li>1</li>\n",
              "\t<li>2</li>\n",
              "\t<li>3</li>\n",
              "\t<li>1</li>\n",
              "\t<li>2</li>\n",
              "\t<li>3</li>\n",
              "</ol>\n"
            ]
          },
          "metadata": {
            "tags": []
          }
        }
      ]
    },
    {
      "cell_type": "code",
      "metadata": {
        "trusted": true,
        "id": "4YJXI2SCi8xY",
        "colab_type": "code",
        "colab": {}
      },
      "source": [
        "#Matrix declaration\n",
        "x <- 1:25\n",
        "dim(x) <- c(5,5)"
      ],
      "execution_count": 0,
      "outputs": []
    },
    {
      "cell_type": "code",
      "metadata": {
        "trusted": true,
        "id": "WRpiH8DDi8xa",
        "colab_type": "code",
        "outputId": "b095541f-59b7-450e-91bf-ea4dfbba7e48",
        "colab": {}
      },
      "source": [
        "x <- matrix(1:24, ncol = 4 , nrow = 6)\n",
        "x"
      ],
      "execution_count": 0,
      "outputs": [
        {
          "output_type": "display_data",
          "data": {
            "text/plain": [
              "     [,1] [,2] [,3] [,4]\n",
              "[1,] 1     7   13   19  \n",
              "[2,] 2     8   14   20  \n",
              "[3,] 3     9   15   21  \n",
              "[4,] 4    10   16   22  \n",
              "[5,] 5    11   17   23  \n",
              "[6,] 6    12   18   24  "
            ],
            "text/latex": "A matrix: 6 x 4 of type int\n\\begin{tabular}{llll}\n\t 1 &  7 & 13 & 19\\\\\n\t 2 &  8 & 14 & 20\\\\\n\t 3 &  9 & 15 & 21\\\\\n\t 4 & 10 & 16 & 22\\\\\n\t 5 & 11 & 17 & 23\\\\\n\t 6 & 12 & 18 & 24\\\\\n\\end{tabular}\n",
            "text/markdown": "\nA matrix: 6 x 4 of type int\n\n| 1 |  7 | 13 | 19 |\n| 2 |  8 | 14 | 20 |\n| 3 |  9 | 15 | 21 |\n| 4 | 10 | 16 | 22 |\n| 5 | 11 | 17 | 23 |\n| 6 | 12 | 18 | 24 |\n\n",
            "text/html": [
              "<table>\n",
              "<caption>A matrix: 6 x 4 of type int</caption>\n",
              "<tbody>\n",
              "\t<tr><td>1</td><td> 7</td><td>13</td><td>19</td></tr>\n",
              "\t<tr><td>2</td><td> 8</td><td>14</td><td>20</td></tr>\n",
              "\t<tr><td>3</td><td> 9</td><td>15</td><td>21</td></tr>\n",
              "\t<tr><td>4</td><td>10</td><td>16</td><td>22</td></tr>\n",
              "\t<tr><td>5</td><td>11</td><td>17</td><td>23</td></tr>\n",
              "\t<tr><td>6</td><td>12</td><td>18</td><td>24</td></tr>\n",
              "</tbody>\n",
              "</table>\n"
            ]
          },
          "metadata": {
            "tags": []
          }
        }
      ]
    },
    {
      "cell_type": "code",
      "metadata": {
        "trusted": true,
        "id": "IJXqGTzDi8xe",
        "colab_type": "code",
        "outputId": "288103c8-1413-4e68-c742-108f957cef5c",
        "colab": {}
      },
      "source": [
        "#Dataframe declaration\n",
        "## the most important data structure for data analysis\n",
        "id <- 1:5\n",
        "friends <- c(\"Toy\", \"Top\", \"Bee\", \"Ink\", \"Wan\")\n",
        "age <- c(31, 26, 31, 26, 25)\n",
        "handsome <- c(F, T, T, T, T)\n",
        "## create dataframe\n",
        "df <- data.frame(id, friends, age, handsome)\n",
        "df"
      ],
      "execution_count": 0,
      "outputs": [
        {
          "output_type": "display_data",
          "data": {
            "text/plain": [
              "  id friends age handsome\n",
              "1 1  Toy     31  FALSE   \n",
              "2 2  Top     26   TRUE   \n",
              "3 3  Bee     31   TRUE   \n",
              "4 4  Ink     26   TRUE   \n",
              "5 5  Wan     25   TRUE   "
            ],
            "text/latex": "A data.frame: 5 x 4\n\\begin{tabular}{r|llll}\n id & friends & age & handsome\\\\\n <int> & <fct> & <dbl> & <lgl>\\\\\n\\hline\n\t 1 & Toy & 31 & FALSE\\\\\n\t 2 & Top & 26 &  TRUE\\\\\n\t 3 & Bee & 31 &  TRUE\\\\\n\t 4 & Ink & 26 &  TRUE\\\\\n\t 5 & Wan & 25 &  TRUE\\\\\n\\end{tabular}\n",
            "text/markdown": "\nA data.frame: 5 x 4\n\n| id &lt;int&gt; | friends &lt;fct&gt; | age &lt;dbl&gt; | handsome &lt;lgl&gt; |\n|---|---|---|---|\n| 1 | Toy | 31 | FALSE |\n| 2 | Top | 26 |  TRUE |\n| 3 | Bee | 31 |  TRUE |\n| 4 | Ink | 26 |  TRUE |\n| 5 | Wan | 25 |  TRUE |\n\n",
            "text/html": [
              "<table>\n",
              "<caption>A data.frame: 5 x 4</caption>\n",
              "<thead>\n",
              "\t<tr><th scope=col>id</th><th scope=col>friends</th><th scope=col>age</th><th scope=col>handsome</th></tr>\n",
              "\t<tr><th scope=col>&lt;int&gt;</th><th scope=col>&lt;fct&gt;</th><th scope=col>&lt;dbl&gt;</th><th scope=col>&lt;lgl&gt;</th></tr>\n",
              "</thead>\n",
              "<tbody>\n",
              "\t<tr><td>1</td><td>Toy</td><td>31</td><td>FALSE</td></tr>\n",
              "\t<tr><td>2</td><td>Top</td><td>26</td><td> TRUE</td></tr>\n",
              "\t<tr><td>3</td><td>Bee</td><td>31</td><td> TRUE</td></tr>\n",
              "\t<tr><td>4</td><td>Ink</td><td>26</td><td> TRUE</td></tr>\n",
              "\t<tr><td>5</td><td>Wan</td><td>25</td><td> TRUE</td></tr>\n",
              "</tbody>\n",
              "</table>\n"
            ]
          },
          "metadata": {
            "tags": []
          }
        }
      ]
    },
    {
      "cell_type": "code",
      "metadata": {
        "trusted": true,
        "id": "Jo0psUyBi8xj",
        "colab_type": "code",
        "colab": {}
      },
      "source": [
        ""
      ],
      "execution_count": 0,
      "outputs": []
    }
  ]
}