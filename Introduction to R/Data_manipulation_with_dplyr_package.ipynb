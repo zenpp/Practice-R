{
  "nbformat": 4,
  "nbformat_minor": 0,
  "metadata": {
    "kernelspec": {
      "name": "r",
      "display_name": "R",
      "language": "R"
    },
    "language_info": {
      "mimetype": "text/x-r-source",
      "name": "R",
      "pygments_lexer": "r",
      "version": "3.5.3",
      "file_extension": ".r",
      "codemirror_mode": "r"
    },
    "colab": {
      "name": "3) Data manipulation with dplyr package.ipynb",
      "provenance": [],
      "include_colab_link": true
    }
  },
  "cells": [
    {
      "cell_type": "markdown",
      "metadata": {
        "id": "view-in-github",
        "colab_type": "text"
      },
      "source": [
        "<a href=\"https://colab.research.google.com/github/zenpp/Practice-R/blob/master/Introduction%20to%20R/Data_manipulation_with_dplyr_package.ipynb\" target=\"_parent\"><img src=\"https://colab.research.google.com/assets/colab-badge.svg\" alt=\"Open In Colab\"/></a>"
      ]
    },
    {
      "cell_type": "code",
      "metadata": {
        "trusted": true,
        "id": "7RrNMy3-qWN3",
        "colab_type": "code",
        "colab": {},
        "outputId": "01ef5e9f-ddc0-4731-c6aa-f3daea88005c"
      },
      "source": [
        "#import library\n",
        "library(dplyr)"
      ],
      "execution_count": 0,
      "outputs": [
        {
          "output_type": "stream",
          "text": [
            "\n",
            "Attaching package: ‘dplyr’\n",
            "\n",
            "The following objects are masked from ‘package:stats’:\n",
            "\n",
            "    filter, lag\n",
            "\n",
            "The following objects are masked from ‘package:base’:\n",
            "\n",
            "    intersect, setdiff, setequal, union\n",
            "\n"
          ],
          "name": "stderr"
        }
      ]
    },
    {
      "cell_type": "code",
      "metadata": {
        "trusted": true,
        "id": "jXl4eDfVqWN-",
        "colab_type": "code",
        "colab": {},
        "outputId": "90870912-a2ec-4bbd-95f3-316f377f13b0"
      },
      "source": [
        "data <- mtcars\n",
        "head(data)"
      ],
      "execution_count": 0,
      "outputs": [
        {
          "output_type": "display_data",
          "data": {
            "text/plain": [
              "                  mpg  cyl disp hp  drat wt    qsec  vs am gear carb\n",
              "Mazda RX4         21.0 6   160  110 3.90 2.620 16.46 0  1  4    4   \n",
              "Mazda RX4 Wag     21.0 6   160  110 3.90 2.875 17.02 0  1  4    4   \n",
              "Datsun 710        22.8 4   108   93 3.85 2.320 18.61 1  1  4    1   \n",
              "Hornet 4 Drive    21.4 6   258  110 3.08 3.215 19.44 1  0  3    1   \n",
              "Hornet Sportabout 18.7 8   360  175 3.15 3.440 17.02 0  0  3    2   \n",
              "Valiant           18.1 6   225  105 2.76 3.460 20.22 1  0  3    1   "
            ],
            "text/latex": "A data.frame: 6 x 11\n\\begin{tabular}{r|lllllllllll}\n  & mpg & cyl & disp & hp & drat & wt & qsec & vs & am & gear & carb\\\\\n  & <dbl> & <dbl> & <dbl> & <dbl> & <dbl> & <dbl> & <dbl> & <dbl> & <dbl> & <dbl> & <dbl>\\\\\n\\hline\n\tMazda RX4 & 21.0 & 6 & 160 & 110 & 3.90 & 2.620 & 16.46 & 0 & 1 & 4 & 4\\\\\n\tMazda RX4 Wag & 21.0 & 6 & 160 & 110 & 3.90 & 2.875 & 17.02 & 0 & 1 & 4 & 4\\\\\n\tDatsun 710 & 22.8 & 4 & 108 &  93 & 3.85 & 2.320 & 18.61 & 1 & 1 & 4 & 1\\\\\n\tHornet 4 Drive & 21.4 & 6 & 258 & 110 & 3.08 & 3.215 & 19.44 & 1 & 0 & 3 & 1\\\\\n\tHornet Sportabout & 18.7 & 8 & 360 & 175 & 3.15 & 3.440 & 17.02 & 0 & 0 & 3 & 2\\\\\n\tValiant & 18.1 & 6 & 225 & 105 & 2.76 & 3.460 & 20.22 & 1 & 0 & 3 & 1\\\\\n\\end{tabular}\n",
            "text/markdown": "\nA data.frame: 6 x 11\n\n| <!--/--> | mpg &lt;dbl&gt; | cyl &lt;dbl&gt; | disp &lt;dbl&gt; | hp &lt;dbl&gt; | drat &lt;dbl&gt; | wt &lt;dbl&gt; | qsec &lt;dbl&gt; | vs &lt;dbl&gt; | am &lt;dbl&gt; | gear &lt;dbl&gt; | carb &lt;dbl&gt; |\n|---|---|---|---|---|---|---|---|---|---|---|---|\n| Mazda RX4 | 21.0 | 6 | 160 | 110 | 3.90 | 2.620 | 16.46 | 0 | 1 | 4 | 4 |\n| Mazda RX4 Wag | 21.0 | 6 | 160 | 110 | 3.90 | 2.875 | 17.02 | 0 | 1 | 4 | 4 |\n| Datsun 710 | 22.8 | 4 | 108 |  93 | 3.85 | 2.320 | 18.61 | 1 | 1 | 4 | 1 |\n| Hornet 4 Drive | 21.4 | 6 | 258 | 110 | 3.08 | 3.215 | 19.44 | 1 | 0 | 3 | 1 |\n| Hornet Sportabout | 18.7 | 8 | 360 | 175 | 3.15 | 3.440 | 17.02 | 0 | 0 | 3 | 2 |\n| Valiant | 18.1 | 6 | 225 | 105 | 2.76 | 3.460 | 20.22 | 1 | 0 | 3 | 1 |\n\n",
            "text/html": [
              "<table>\n",
              "<caption>A data.frame: 6 x 11</caption>\n",
              "<thead>\n",
              "\t<tr><th></th><th scope=col>mpg</th><th scope=col>cyl</th><th scope=col>disp</th><th scope=col>hp</th><th scope=col>drat</th><th scope=col>wt</th><th scope=col>qsec</th><th scope=col>vs</th><th scope=col>am</th><th scope=col>gear</th><th scope=col>carb</th></tr>\n",
              "\t<tr><th></th><th scope=col>&lt;dbl&gt;</th><th scope=col>&lt;dbl&gt;</th><th scope=col>&lt;dbl&gt;</th><th scope=col>&lt;dbl&gt;</th><th scope=col>&lt;dbl&gt;</th><th scope=col>&lt;dbl&gt;</th><th scope=col>&lt;dbl&gt;</th><th scope=col>&lt;dbl&gt;</th><th scope=col>&lt;dbl&gt;</th><th scope=col>&lt;dbl&gt;</th><th scope=col>&lt;dbl&gt;</th></tr>\n",
              "</thead>\n",
              "<tbody>\n",
              "\t<tr><th scope=row>Mazda RX4</th><td>21.0</td><td>6</td><td>160</td><td>110</td><td>3.90</td><td>2.620</td><td>16.46</td><td>0</td><td>1</td><td>4</td><td>4</td></tr>\n",
              "\t<tr><th scope=row>Mazda RX4 Wag</th><td>21.0</td><td>6</td><td>160</td><td>110</td><td>3.90</td><td>2.875</td><td>17.02</td><td>0</td><td>1</td><td>4</td><td>4</td></tr>\n",
              "\t<tr><th scope=row>Datsun 710</th><td>22.8</td><td>4</td><td>108</td><td> 93</td><td>3.85</td><td>2.320</td><td>18.61</td><td>1</td><td>1</td><td>4</td><td>1</td></tr>\n",
              "\t<tr><th scope=row>Hornet 4 Drive</th><td>21.4</td><td>6</td><td>258</td><td>110</td><td>3.08</td><td>3.215</td><td>19.44</td><td>1</td><td>0</td><td>3</td><td>1</td></tr>\n",
              "\t<tr><th scope=row>Hornet Sportabout</th><td>18.7</td><td>8</td><td>360</td><td>175</td><td>3.15</td><td>3.440</td><td>17.02</td><td>0</td><td>0</td><td>3</td><td>2</td></tr>\n",
              "\t<tr><th scope=row>Valiant</th><td>18.1</td><td>6</td><td>225</td><td>105</td><td>2.76</td><td>3.460</td><td>20.22</td><td>1</td><td>0</td><td>3</td><td>1</td></tr>\n",
              "</tbody>\n",
              "</table>\n"
            ]
          },
          "metadata": {
            "tags": []
          }
        }
      ]
    },
    {
      "cell_type": "code",
      "metadata": {
        "trusted": true,
        "id": "0VwPhxgcqWOC",
        "colab_type": "code",
        "colab": {},
        "outputId": "67d998f6-f257-474a-8bbd-64ad82b55beb"
      },
      "source": [
        "#select function use for select specific column \n",
        "head(select(data,mpg,cyl,hp,vs)) #first argument is data set and follow with desired columns"
      ],
      "execution_count": 0,
      "outputs": [
        {
          "output_type": "display_data",
          "data": {
            "text/plain": [
              "                  mpg  cyl hp  vs\n",
              "Mazda RX4         21.0 6   110 0 \n",
              "Mazda RX4 Wag     21.0 6   110 0 \n",
              "Datsun 710        22.8 4    93 1 \n",
              "Hornet 4 Drive    21.4 6   110 1 \n",
              "Hornet Sportabout 18.7 8   175 0 \n",
              "Valiant           18.1 6   105 1 "
            ],
            "text/latex": "A data.frame: 6 x 4\n\\begin{tabular}{r|llll}\n  & mpg & cyl & hp & vs\\\\\n  & <dbl> & <dbl> & <dbl> & <dbl>\\\\\n\\hline\n\tMazda RX4 & 21.0 & 6 & 110 & 0\\\\\n\tMazda RX4 Wag & 21.0 & 6 & 110 & 0\\\\\n\tDatsun 710 & 22.8 & 4 &  93 & 1\\\\\n\tHornet 4 Drive & 21.4 & 6 & 110 & 1\\\\\n\tHornet Sportabout & 18.7 & 8 & 175 & 0\\\\\n\tValiant & 18.1 & 6 & 105 & 1\\\\\n\\end{tabular}\n",
            "text/markdown": "\nA data.frame: 6 x 4\n\n| <!--/--> | mpg &lt;dbl&gt; | cyl &lt;dbl&gt; | hp &lt;dbl&gt; | vs &lt;dbl&gt; |\n|---|---|---|---|---|\n| Mazda RX4 | 21.0 | 6 | 110 | 0 |\n| Mazda RX4 Wag | 21.0 | 6 | 110 | 0 |\n| Datsun 710 | 22.8 | 4 |  93 | 1 |\n| Hornet 4 Drive | 21.4 | 6 | 110 | 1 |\n| Hornet Sportabout | 18.7 | 8 | 175 | 0 |\n| Valiant | 18.1 | 6 | 105 | 1 |\n\n",
            "text/html": [
              "<table>\n",
              "<caption>A data.frame: 6 x 4</caption>\n",
              "<thead>\n",
              "\t<tr><th></th><th scope=col>mpg</th><th scope=col>cyl</th><th scope=col>hp</th><th scope=col>vs</th></tr>\n",
              "\t<tr><th></th><th scope=col>&lt;dbl&gt;</th><th scope=col>&lt;dbl&gt;</th><th scope=col>&lt;dbl&gt;</th><th scope=col>&lt;dbl&gt;</th></tr>\n",
              "</thead>\n",
              "<tbody>\n",
              "\t<tr><th scope=row>Mazda RX4</th><td>21.0</td><td>6</td><td>110</td><td>0</td></tr>\n",
              "\t<tr><th scope=row>Mazda RX4 Wag</th><td>21.0</td><td>6</td><td>110</td><td>0</td></tr>\n",
              "\t<tr><th scope=row>Datsun 710</th><td>22.8</td><td>4</td><td> 93</td><td>1</td></tr>\n",
              "\t<tr><th scope=row>Hornet 4 Drive</th><td>21.4</td><td>6</td><td>110</td><td>1</td></tr>\n",
              "\t<tr><th scope=row>Hornet Sportabout</th><td>18.7</td><td>8</td><td>175</td><td>0</td></tr>\n",
              "\t<tr><th scope=row>Valiant</th><td>18.1</td><td>6</td><td>105</td><td>1</td></tr>\n",
              "</tbody>\n",
              "</table>\n"
            ]
          },
          "metadata": {
            "tags": []
          }
        }
      ]
    },
    {
      "cell_type": "code",
      "metadata": {
        "trusted": true,
        "id": "LEwDrSBqqWOF",
        "colab_type": "code",
        "colab": {},
        "outputId": "714740bc-e0f7-483e-ad14-8359f95a613a"
      },
      "source": [
        "head(select(data,1:5)) #select column 1,2,3,4,5"
      ],
      "execution_count": 0,
      "outputs": [
        {
          "output_type": "display_data",
          "data": {
            "text/plain": [
              "                  mpg  cyl disp hp  drat\n",
              "Mazda RX4         21.0 6   160  110 3.90\n",
              "Mazda RX4 Wag     21.0 6   160  110 3.90\n",
              "Datsun 710        22.8 4   108   93 3.85\n",
              "Hornet 4 Drive    21.4 6   258  110 3.08\n",
              "Hornet Sportabout 18.7 8   360  175 3.15\n",
              "Valiant           18.1 6   225  105 2.76"
            ],
            "text/latex": "A data.frame: 6 x 5\n\\begin{tabular}{r|lllll}\n  & mpg & cyl & disp & hp & drat\\\\\n  & <dbl> & <dbl> & <dbl> & <dbl> & <dbl>\\\\\n\\hline\n\tMazda RX4 & 21.0 & 6 & 160 & 110 & 3.90\\\\\n\tMazda RX4 Wag & 21.0 & 6 & 160 & 110 & 3.90\\\\\n\tDatsun 710 & 22.8 & 4 & 108 &  93 & 3.85\\\\\n\tHornet 4 Drive & 21.4 & 6 & 258 & 110 & 3.08\\\\\n\tHornet Sportabout & 18.7 & 8 & 360 & 175 & 3.15\\\\\n\tValiant & 18.1 & 6 & 225 & 105 & 2.76\\\\\n\\end{tabular}\n",
            "text/markdown": "\nA data.frame: 6 x 5\n\n| <!--/--> | mpg &lt;dbl&gt; | cyl &lt;dbl&gt; | disp &lt;dbl&gt; | hp &lt;dbl&gt; | drat &lt;dbl&gt; |\n|---|---|---|---|---|---|\n| Mazda RX4 | 21.0 | 6 | 160 | 110 | 3.90 |\n| Mazda RX4 Wag | 21.0 | 6 | 160 | 110 | 3.90 |\n| Datsun 710 | 22.8 | 4 | 108 |  93 | 3.85 |\n| Hornet 4 Drive | 21.4 | 6 | 258 | 110 | 3.08 |\n| Hornet Sportabout | 18.7 | 8 | 360 | 175 | 3.15 |\n| Valiant | 18.1 | 6 | 225 | 105 | 2.76 |\n\n",
            "text/html": [
              "<table>\n",
              "<caption>A data.frame: 6 x 5</caption>\n",
              "<thead>\n",
              "\t<tr><th></th><th scope=col>mpg</th><th scope=col>cyl</th><th scope=col>disp</th><th scope=col>hp</th><th scope=col>drat</th></tr>\n",
              "\t<tr><th></th><th scope=col>&lt;dbl&gt;</th><th scope=col>&lt;dbl&gt;</th><th scope=col>&lt;dbl&gt;</th><th scope=col>&lt;dbl&gt;</th><th scope=col>&lt;dbl&gt;</th></tr>\n",
              "</thead>\n",
              "<tbody>\n",
              "\t<tr><th scope=row>Mazda RX4</th><td>21.0</td><td>6</td><td>160</td><td>110</td><td>3.90</td></tr>\n",
              "\t<tr><th scope=row>Mazda RX4 Wag</th><td>21.0</td><td>6</td><td>160</td><td>110</td><td>3.90</td></tr>\n",
              "\t<tr><th scope=row>Datsun 710</th><td>22.8</td><td>4</td><td>108</td><td> 93</td><td>3.85</td></tr>\n",
              "\t<tr><th scope=row>Hornet 4 Drive</th><td>21.4</td><td>6</td><td>258</td><td>110</td><td>3.08</td></tr>\n",
              "\t<tr><th scope=row>Hornet Sportabout</th><td>18.7</td><td>8</td><td>360</td><td>175</td><td>3.15</td></tr>\n",
              "\t<tr><th scope=row>Valiant</th><td>18.1</td><td>6</td><td>225</td><td>105</td><td>2.76</td></tr>\n",
              "</tbody>\n",
              "</table>\n"
            ]
          },
          "metadata": {
            "tags": []
          }
        }
      ]
    },
    {
      "cell_type": "code",
      "metadata": {
        "trusted": true,
        "id": "U9RbEJBzqWOI",
        "colab_type": "code",
        "colab": {},
        "outputId": "4fa61241-0f6d-4d6f-bd1f-d84a94cebbfb"
      },
      "source": [
        "#filter use for filter column on specific condition\n",
        "head(filter(data, hp > 100 | am == 0))"
      ],
      "execution_count": 0,
      "outputs": [
        {
          "output_type": "display_data",
          "data": {
            "text/plain": [
              "  mpg  cyl disp hp  drat wt    qsec  vs am gear carb\n",
              "1 21.0 6   160  110 3.90 2.620 16.46 0  1  4    4   \n",
              "2 21.0 6   160  110 3.90 2.875 17.02 0  1  4    4   \n",
              "3 21.4 6   258  110 3.08 3.215 19.44 1  0  3    1   \n",
              "4 18.7 8   360  175 3.15 3.440 17.02 0  0  3    2   \n",
              "5 18.1 6   225  105 2.76 3.460 20.22 1  0  3    1   \n",
              "6 14.3 8   360  245 3.21 3.570 15.84 0  0  3    4   "
            ],
            "text/latex": "A data.frame: 6 x 11\n\\begin{tabular}{r|lllllllllll}\n mpg & cyl & disp & hp & drat & wt & qsec & vs & am & gear & carb\\\\\n <dbl> & <dbl> & <dbl> & <dbl> & <dbl> & <dbl> & <dbl> & <dbl> & <dbl> & <dbl> & <dbl>\\\\\n\\hline\n\t 21.0 & 6 & 160 & 110 & 3.90 & 2.620 & 16.46 & 0 & 1 & 4 & 4\\\\\n\t 21.0 & 6 & 160 & 110 & 3.90 & 2.875 & 17.02 & 0 & 1 & 4 & 4\\\\\n\t 21.4 & 6 & 258 & 110 & 3.08 & 3.215 & 19.44 & 1 & 0 & 3 & 1\\\\\n\t 18.7 & 8 & 360 & 175 & 3.15 & 3.440 & 17.02 & 0 & 0 & 3 & 2\\\\\n\t 18.1 & 6 & 225 & 105 & 2.76 & 3.460 & 20.22 & 1 & 0 & 3 & 1\\\\\n\t 14.3 & 8 & 360 & 245 & 3.21 & 3.570 & 15.84 & 0 & 0 & 3 & 4\\\\\n\\end{tabular}\n",
            "text/markdown": "\nA data.frame: 6 x 11\n\n| mpg &lt;dbl&gt; | cyl &lt;dbl&gt; | disp &lt;dbl&gt; | hp &lt;dbl&gt; | drat &lt;dbl&gt; | wt &lt;dbl&gt; | qsec &lt;dbl&gt; | vs &lt;dbl&gt; | am &lt;dbl&gt; | gear &lt;dbl&gt; | carb &lt;dbl&gt; |\n|---|---|---|---|---|---|---|---|---|---|---|\n| 21.0 | 6 | 160 | 110 | 3.90 | 2.620 | 16.46 | 0 | 1 | 4 | 4 |\n| 21.0 | 6 | 160 | 110 | 3.90 | 2.875 | 17.02 | 0 | 1 | 4 | 4 |\n| 21.4 | 6 | 258 | 110 | 3.08 | 3.215 | 19.44 | 1 | 0 | 3 | 1 |\n| 18.7 | 8 | 360 | 175 | 3.15 | 3.440 | 17.02 | 0 | 0 | 3 | 2 |\n| 18.1 | 6 | 225 | 105 | 2.76 | 3.460 | 20.22 | 1 | 0 | 3 | 1 |\n| 14.3 | 8 | 360 | 245 | 3.21 | 3.570 | 15.84 | 0 | 0 | 3 | 4 |\n\n",
            "text/html": [
              "<table>\n",
              "<caption>A data.frame: 6 x 11</caption>\n",
              "<thead>\n",
              "\t<tr><th scope=col>mpg</th><th scope=col>cyl</th><th scope=col>disp</th><th scope=col>hp</th><th scope=col>drat</th><th scope=col>wt</th><th scope=col>qsec</th><th scope=col>vs</th><th scope=col>am</th><th scope=col>gear</th><th scope=col>carb</th></tr>\n",
              "\t<tr><th scope=col>&lt;dbl&gt;</th><th scope=col>&lt;dbl&gt;</th><th scope=col>&lt;dbl&gt;</th><th scope=col>&lt;dbl&gt;</th><th scope=col>&lt;dbl&gt;</th><th scope=col>&lt;dbl&gt;</th><th scope=col>&lt;dbl&gt;</th><th scope=col>&lt;dbl&gt;</th><th scope=col>&lt;dbl&gt;</th><th scope=col>&lt;dbl&gt;</th><th scope=col>&lt;dbl&gt;</th></tr>\n",
              "</thead>\n",
              "<tbody>\n",
              "\t<tr><td>21.0</td><td>6</td><td>160</td><td>110</td><td>3.90</td><td>2.620</td><td>16.46</td><td>0</td><td>1</td><td>4</td><td>4</td></tr>\n",
              "\t<tr><td>21.0</td><td>6</td><td>160</td><td>110</td><td>3.90</td><td>2.875</td><td>17.02</td><td>0</td><td>1</td><td>4</td><td>4</td></tr>\n",
              "\t<tr><td>21.4</td><td>6</td><td>258</td><td>110</td><td>3.08</td><td>3.215</td><td>19.44</td><td>1</td><td>0</td><td>3</td><td>1</td></tr>\n",
              "\t<tr><td>18.7</td><td>8</td><td>360</td><td>175</td><td>3.15</td><td>3.440</td><td>17.02</td><td>0</td><td>0</td><td>3</td><td>2</td></tr>\n",
              "\t<tr><td>18.1</td><td>6</td><td>225</td><td>105</td><td>2.76</td><td>3.460</td><td>20.22</td><td>1</td><td>0</td><td>3</td><td>1</td></tr>\n",
              "\t<tr><td>14.3</td><td>8</td><td>360</td><td>245</td><td>3.21</td><td>3.570</td><td>15.84</td><td>0</td><td>0</td><td>3</td><td>4</td></tr>\n",
              "</tbody>\n",
              "</table>\n"
            ]
          },
          "metadata": {
            "tags": []
          }
        }
      ]
    },
    {
      "cell_type": "code",
      "metadata": {
        "trusted": true,
        "id": "7CxTKXZHqWOL",
        "colab_type": "code",
        "colab": {},
        "outputId": "fa78851d-9ee4-49d9-b62b-a73725f81866"
      },
      "source": [
        "#arrange use for sort numerical value in selected column\n",
        "print(head(arrange(data,hp)))\n",
        "#or order by descending\n",
        "print(head(arrange(data,desc(hp))))"
      ],
      "execution_count": 0,
      "outputs": [
        {
          "output_type": "stream",
          "text": [
            "   mpg cyl  disp hp drat    wt  qsec vs am gear carb\n",
            "1 30.4   4  75.7 52 4.93 1.615 18.52  1  1    4    2\n",
            "2 24.4   4 146.7 62 3.69 3.190 20.00  1  0    4    2\n",
            "3 33.9   4  71.1 65 4.22 1.835 19.90  1  1    4    1\n",
            "4 32.4   4  78.7 66 4.08 2.200 19.47  1  1    4    1\n",
            "5 27.3   4  79.0 66 4.08 1.935 18.90  1  1    4    1\n",
            "6 26.0   4 120.3 91 4.43 2.140 16.70  0  1    5    2\n",
            "   mpg cyl disp  hp drat    wt  qsec vs am gear carb\n",
            "1 15.0   8  301 335 3.54 3.570 14.60  0  1    5    8\n",
            "2 15.8   8  351 264 4.22 3.170 14.50  0  1    5    4\n",
            "3 14.3   8  360 245 3.21 3.570 15.84  0  0    3    4\n",
            "4 13.3   8  350 245 3.73 3.840 15.41  0  0    3    4\n",
            "5 14.7   8  440 230 3.23 5.345 17.42  0  0    3    4\n",
            "6 10.4   8  460 215 3.00 5.424 17.82  0  0    3    4\n"
          ],
          "name": "stdout"
        }
      ]
    },
    {
      "cell_type": "code",
      "metadata": {
        "trusted": true,
        "id": "VbYx8jEuqWOP",
        "colab_type": "code",
        "colab": {},
        "outputId": "58ff3955-585f-423b-9f50-e8763ba615da"
      },
      "source": [
        "#mutate use for create a new column\n",
        "new_data <- mutate(data,hp_double = hp*2)\n",
        "head(select(new_data,hp,hp_double))"
      ],
      "execution_count": 0,
      "outputs": [
        {
          "output_type": "display_data",
          "data": {
            "text/plain": [
              "  hp  hp_double\n",
              "1 110 220      \n",
              "2 110 220      \n",
              "3  93 186      \n",
              "4 110 220      \n",
              "5 175 350      \n",
              "6 105 210      "
            ],
            "text/latex": "A data.frame: 6 x 2\n\\begin{tabular}{r|ll}\n hp & hp\\_double\\\\\n <dbl> & <dbl>\\\\\n\\hline\n\t 110 & 220\\\\\n\t 110 & 220\\\\\n\t  93 & 186\\\\\n\t 110 & 220\\\\\n\t 175 & 350\\\\\n\t 105 & 210\\\\\n\\end{tabular}\n",
            "text/markdown": "\nA data.frame: 6 x 2\n\n| hp &lt;dbl&gt; | hp_double &lt;dbl&gt; |\n|---|---|\n| 110 | 220 |\n| 110 | 220 |\n|  93 | 186 |\n| 110 | 220 |\n| 175 | 350 |\n| 105 | 210 |\n\n",
            "text/html": [
              "<table>\n",
              "<caption>A data.frame: 6 x 2</caption>\n",
              "<thead>\n",
              "\t<tr><th scope=col>hp</th><th scope=col>hp_double</th></tr>\n",
              "\t<tr><th scope=col>&lt;dbl&gt;</th><th scope=col>&lt;dbl&gt;</th></tr>\n",
              "</thead>\n",
              "<tbody>\n",
              "\t<tr><td>110</td><td>220</td></tr>\n",
              "\t<tr><td>110</td><td>220</td></tr>\n",
              "\t<tr><td> 93</td><td>186</td></tr>\n",
              "\t<tr><td>110</td><td>220</td></tr>\n",
              "\t<tr><td>175</td><td>350</td></tr>\n",
              "\t<tr><td>105</td><td>210</td></tr>\n",
              "</tbody>\n",
              "</table>\n"
            ]
          },
          "metadata": {
            "tags": []
          }
        }
      ]
    },
    {
      "cell_type": "code",
      "metadata": {
        "trusted": true,
        "id": "yXe6nd56qWOU",
        "colab_type": "code",
        "colab": {},
        "outputId": "d35db0f4-3403-4962-ac2e-e5f9cdf41905"
      },
      "source": [
        "#summarise function use for data summary in form of data frame\n",
        "summarise(data,avg_hp = mean(hp),sd_hp = sd(hp),n = n())"
      ],
      "execution_count": 0,
      "outputs": [
        {
          "output_type": "display_data",
          "data": {
            "text/plain": [
              "  avg_hp   sd_hp    n \n",
              "1 146.6875 68.56287 32"
            ],
            "text/latex": "A data.frame: 1 x 3\n\\begin{tabular}{r|lll}\n avg\\_hp & sd\\_hp & n\\\\\n <dbl> & <dbl> & <int>\\\\\n\\hline\n\t 146.6875 & 68.56287 & 32\\\\\n\\end{tabular}\n",
            "text/markdown": "\nA data.frame: 1 x 3\n\n| avg_hp &lt;dbl&gt; | sd_hp &lt;dbl&gt; | n &lt;int&gt; |\n|---|---|---|\n| 146.6875 | 68.56287 | 32 |\n\n",
            "text/html": [
              "<table>\n",
              "<caption>A data.frame: 1 x 3</caption>\n",
              "<thead>\n",
              "\t<tr><th scope=col>avg_hp</th><th scope=col>sd_hp</th><th scope=col>n</th></tr>\n",
              "\t<tr><th scope=col>&lt;dbl&gt;</th><th scope=col>&lt;dbl&gt;</th><th scope=col>&lt;int&gt;</th></tr>\n",
              "</thead>\n",
              "<tbody>\n",
              "\t<tr><td>146.6875</td><td>68.56287</td><td>32</td></tr>\n",
              "</tbody>\n",
              "</table>\n"
            ]
          },
          "metadata": {
            "tags": []
          }
        }
      ]
    },
    {
      "cell_type": "code",
      "metadata": {
        "trusted": true,
        "id": "aDQYzTrWqWOX",
        "colab_type": "code",
        "colab": {},
        "outputId": "34ab3dd5-810e-4c5f-bd4b-d5e7b5d63fb1"
      },
      "source": [
        "#summarise function can also use with group by (can be multiple variable in group_by())\n",
        "#these operation can be perform with this notation '%>%' too\n",
        "data %>% group_by(am,cyl) %>% summarise(avg_hp = mean(hp), sd_hp = sd(hp))"
      ],
      "execution_count": 0,
      "outputs": [
        {
          "output_type": "display_data",
          "data": {
            "text/plain": [
              "  am cyl avg_hp    sd_hp   \n",
              "1 0  4    84.66667 19.65536\n",
              "2 0  6   115.25000  9.17878\n",
              "3 0  8   194.16667 33.35984\n",
              "4 1  4    81.87500 22.65542\n",
              "5 1  6   131.66667 37.52777\n",
              "6 1  8   299.50000 50.20458"
            ],
            "text/latex": "A grouped_df: 6 x 4\n\\begin{tabular}{r|llll}\n am & cyl & avg\\_hp & sd\\_hp\\\\\n <dbl> & <dbl> & <dbl> & <dbl>\\\\\n\\hline\n\t 0 & 4 &  84.66667 & 19.65536\\\\\n\t 0 & 6 & 115.25000 &  9.17878\\\\\n\t 0 & 8 & 194.16667 & 33.35984\\\\\n\t 1 & 4 &  81.87500 & 22.65542\\\\\n\t 1 & 6 & 131.66667 & 37.52777\\\\\n\t 1 & 8 & 299.50000 & 50.20458\\\\\n\\end{tabular}\n",
            "text/markdown": "\nA grouped_df: 6 x 4\n\n| am &lt;dbl&gt; | cyl &lt;dbl&gt; | avg_hp &lt;dbl&gt; | sd_hp &lt;dbl&gt; |\n|---|---|---|---|\n| 0 | 4 |  84.66667 | 19.65536 |\n| 0 | 6 | 115.25000 |  9.17878 |\n| 0 | 8 | 194.16667 | 33.35984 |\n| 1 | 4 |  81.87500 | 22.65542 |\n| 1 | 6 | 131.66667 | 37.52777 |\n| 1 | 8 | 299.50000 | 50.20458 |\n\n",
            "text/html": [
              "<table>\n",
              "<caption>A grouped_df: 6 x 4</caption>\n",
              "<thead>\n",
              "\t<tr><th scope=col>am</th><th scope=col>cyl</th><th scope=col>avg_hp</th><th scope=col>sd_hp</th></tr>\n",
              "\t<tr><th scope=col>&lt;dbl&gt;</th><th scope=col>&lt;dbl&gt;</th><th scope=col>&lt;dbl&gt;</th><th scope=col>&lt;dbl&gt;</th></tr>\n",
              "</thead>\n",
              "<tbody>\n",
              "\t<tr><td>0</td><td>4</td><td> 84.66667</td><td>19.65536</td></tr>\n",
              "\t<tr><td>0</td><td>6</td><td>115.25000</td><td> 9.17878</td></tr>\n",
              "\t<tr><td>0</td><td>8</td><td>194.16667</td><td>33.35984</td></tr>\n",
              "\t<tr><td>1</td><td>4</td><td> 81.87500</td><td>22.65542</td></tr>\n",
              "\t<tr><td>1</td><td>6</td><td>131.66667</td><td>37.52777</td></tr>\n",
              "\t<tr><td>1</td><td>8</td><td>299.50000</td><td>50.20458</td></tr>\n",
              "</tbody>\n",
              "</table>\n"
            ]
          },
          "metadata": {
            "tags": []
          }
        }
      ]
    },
    {
      "cell_type": "code",
      "metadata": {
        "trusted": true,
        "id": "IeAHhjt3qWOa",
        "colab_type": "code",
        "colab": {},
        "outputId": "0661898d-707e-4789-9867-9374c4a4b088"
      },
      "source": [
        "#example of full operations\n",
        "data %>% select(mpg, hp, wt, am) %>% filter(am == 0) %>% mutate(hp_double = hp * 2) %>% summarise(avg_hp_double = mean(hp_double)) %>% arrange(desc(avg_hp_double))"
      ],
      "execution_count": 0,
      "outputs": [
        {
          "output_type": "display_data",
          "data": {
            "text/plain": [
              "  avg_hp_double\n",
              "1 320.5263     "
            ],
            "text/latex": "A data.frame: 1 x 1\n\\begin{tabular}{r|l}\n avg\\_hp\\_double\\\\\n <dbl>\\\\\n\\hline\n\t 320.5263\\\\\n\\end{tabular}\n",
            "text/markdown": "\nA data.frame: 1 x 1\n\n| avg_hp_double &lt;dbl&gt; |\n|---|\n| 320.5263 |\n\n",
            "text/html": [
              "<table>\n",
              "<caption>A data.frame: 1 x 1</caption>\n",
              "<thead>\n",
              "\t<tr><th scope=col>avg_hp_double</th></tr>\n",
              "\t<tr><th scope=col>&lt;dbl&gt;</th></tr>\n",
              "</thead>\n",
              "<tbody>\n",
              "\t<tr><td>320.5263</td></tr>\n",
              "</tbody>\n",
              "</table>\n"
            ]
          },
          "metadata": {
            "tags": []
          }
        }
      ]
    }
  ]
}